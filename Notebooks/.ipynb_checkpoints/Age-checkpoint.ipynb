{
 "cells": [
  {
   "cell_type": "code",
   "execution_count": 1,
   "id": "c113596f",
   "metadata": {},
   "outputs": [],
   "source": [
    "import pandas as pd\n",
    "import numpy as np"
   ]
  },
  {
   "cell_type": "code",
   "execution_count": 4,
   "id": "e1d53ffa",
   "metadata": {},
   "outputs": [],
   "source": [
    "df =pd.read_csv('Data/ADP/FantasyPros_2015_DST_ADP_Rankings.csv')\n",
    "df.drop(['Team', 'Bye', 'MFL', 'Fantrax', 'RTSports', 'Sleeper','ESPN', 'Yahoo', 'FFC'], axis=1, inplace=True)\n",
    "df.to_csv('Data/ADP/FantasyPros_2015_DST_ADP_Rankings.csv')"
   ]
  },
  {
   "cell_type": "code",
   "execution_count": 13,
   "id": "4131edf3",
   "metadata": {},
   "outputs": [
    {
     "name": "stdout",
     "output_type": "stream",
     "text": [
      "Data/ADP/FantasyPros_2015_TE_ADP_Rankings.csv\n"
     ]
    }
   ],
   "source": [
    "for i in range(2015, 2016):\n",
    "    adr = \"Data/ADP/FantasyPros_\" + str(i) + \"_\" \n",
    "    end = \"_ADP_Rankings.csv\"\n",
    "    te = adr + \"TE\" + end\n",
    "    df = pd.read_csv(te)\n",
    "    df.drop(['Team', 'Bye', 'MFL', 'Fantrax', 'RTSports', 'Sleeper', 'FFC'], axis=1, inplace=True)\n",
    "    df.to_csv(te)\n",
    "    overall = adr + \"Overall\" + end\n",
    "    df = pd.read_csv(overall)\n",
    "    df.drop(['Team', 'Bye', 'MFL', 'Fantrax', 'RTSports', 'Sleeper', 'FFC'], axis=1, inplace=True)\n",
    "    df.to_csv(overall)\n",
    "    k = adr + \"K\" + end\n",
    "    df = pd.read_csv(k)\n",
    "    df.drop(['Team', 'Bye', 'MFL', 'Fantrax', 'RTSports', 'Sleeper', 'FFC'], axis=1, inplace=True)\n",
    "    df.to_csv(k)\n",
    "    qb = adr + \"QB\" + end\n",
    "    df = pd.read_csv(qb)\n",
    "    df.drop(['Team', 'Bye', 'MFL', 'Fantrax', 'RTSports', 'Sleeper', 'FFC'], axis=1, inplace=True)\n",
    "    df.to_csv(qb)\n",
    "    rb = adr + \"RB\" + end\n",
    "    df = pd.read_csv(rb)\n",
    "    df.drop(['Team', 'Bye', 'MFL', 'Fantrax', 'RTSports', 'Sleeper', 'FFC'], axis=1, inplace=True)\n",
    "    df.to_csv(rb)\n",
    "    dst = adr + \"DST\" + end\n",
    "    df = pd.read_csv(dst)\n",
    "    df.drop(['Team', 'Bye', 'MFL', 'Fantrax', 'RTSports', 'Sleeper', 'FFC'], axis=1, inplace=True)\n",
    "    df.to_csv(dst)\n",
    "    wr = adr + \"WR\" + end\n",
    "    df = pd.read_csv(wr)\n",
    "    df.drop(['Team', 'Bye', 'MFL', 'Fantrax', 'RTSports', 'Sleeper', 'FFC'], axis=1, inplace=True)\n",
    "    df.to_csv(wr)"
   ]
  },
  {
   "cell_type": "code",
   "execution_count": null,
   "id": "b1f29fca",
   "metadata": {},
   "outputs": [],
   "source": []
  }
 ],
 "metadata": {
  "kernelspec": {
   "display_name": "Python 3 (ipykernel)",
   "language": "python",
   "name": "python3"
  },
  "language_info": {
   "codemirror_mode": {
    "name": "ipython",
    "version": 3
   },
   "file_extension": ".py",
   "mimetype": "text/x-python",
   "name": "python",
   "nbconvert_exporter": "python",
   "pygments_lexer": "ipython3",
   "version": "3.9.13"
  }
 },
 "nbformat": 4,
 "nbformat_minor": 5
}
