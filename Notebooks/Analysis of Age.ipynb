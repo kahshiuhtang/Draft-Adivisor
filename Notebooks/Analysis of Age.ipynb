{
 "cells": [
  {
   "cell_type": "markdown",
   "id": "f98d23af",
   "metadata": {},
   "source": [
    "# Age Analysis\n",
    "==========================================================================================\n",
    "\n",
    "### Thinking\n",
    "* In the NFL, age defintely matters\n",
    "* Certain players has lifestyles that may make them more prone to injury and worse production\n",
    "    * For example: running backs have very short lifespans\n",
    "    * on the other hand, quarterbacks can play for a very long time without much drop in quality\n",
    "* On the other hand, a more experienced player may make less mistakes\n",
    "    * What is the tradeoff between experience and lifespan?\n",
    "    * What traits hold better than others\n",
    "* At what point does it become dangerous to rely on an \"old\" player at QB, RB, WR?\n",
    "   \n",
    "==========================================================================================\n",
    "### Data Collection\n",
    "* Data is available from 2016-2021 for multiple categories\n",
    "* Players have their stats available in this same time period, but advanced stats and defensive aren't tracked until 2018\n",
    "    * In this analysis, I will stick to looking at all data, so I will only look between 2018-2021\n",
    "    \n",
    "==========================================================================================\n",
    "### Method of Analysis\n",
    "##### Numbers:\n",
    "* Mainly, I want to look at the performance of certain stats and how they change as a player ages\n",
    "    * I will focus primarily on QBs, RBs, and WRs\n",
    "    * However, I will\n",
    "* Will calculate the difference of a player's draft position and final standing and its \n",
    "    * For example: a player with an ADP (Average Draft Position) of RB12 but finishes the year as the RB5 would be +7\n",
    "        * Flipping the ADP and Finish would be a -7 rating\n",
    "        * However, finishing at RB5 from ADP12 is more important than finishing RB24 from ADP31\n",
    "            * The gap in points is simply too large\n",
    "            \n",
    "##### Cleaning + Preparing\n",
    "* Bring in the data and store in pandas dataframes\n",
    "    * Need to bring in:\n",
    "        * ADP (2016-2021 Just Overall)\n",
    "        * Final Seasonal Numbers\n",
    "        * RedZone Passing, Receiving, Rushing\n",
    "        * TeamOffense:\n",
    "            * Conversions\n",
    "            * Drive averages\n",
    "            * Passing Offense\n",
    "            * Rushing Offense\n",
    "            * Scoring Offense\n",
    "* Create a Hashing System to link up team names with their abreviations\n",
    "* Link up player data (Player Team -> Team scoring/passing/receiving/rushing)\n",
    "* Divide up players by position for comparison\n",
    "* Scale the numbers (for SVM)\n",
    "\n",
    "##### Clustering\n",
    "* Graph a couple of seemingly import attributes\n",
    "* See if KMeans or MeanShift can cluster the data into groups, may take a long time\n",
    "\n",
    "##### Modeling\n",
    "* Will use a SVM and DecisionTree (Maybe RandomForest) to see if there is any trends\n",
    "* Test on 2022 Seasonal Data while training on these 5-6 years"
   ]
  }
 ],
 "metadata": {
  "kernelspec": {
   "display_name": "Python 3 (ipykernel)",
   "language": "python",
   "name": "python3"
  },
  "language_info": {
   "codemirror_mode": {
    "name": "ipython",
    "version": 3
   },
   "file_extension": ".py",
   "mimetype": "text/x-python",
   "name": "python",
   "nbconvert_exporter": "python",
   "pygments_lexer": "ipython3",
   "version": "3.9.13"
  }
 },
 "nbformat": 4,
 "nbformat_minor": 5
}
